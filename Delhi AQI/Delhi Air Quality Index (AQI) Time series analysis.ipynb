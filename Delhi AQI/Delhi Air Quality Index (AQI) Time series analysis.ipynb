{
 "cells": [
  {
   "cell_type": "code",
   "execution_count": 1,
   "id": "65b4bfb0-f1ce-4768-be9f-38b79b7fd533",
   "metadata": {},
   "outputs": [],
   "source": [
    "import numpy as np \n",
    "import pandas as pd \n",
    "import matplotlib.pyplot as plt\n",
    "import seaborn as sns\n",
    "import warnings\n",
    "warnings.filterwarnings('ignore')"
   ]
  },
  {
   "cell_type": "code",
   "execution_count": 20,
   "id": "1bb07be1-b810-4114-bb0b-b9ba02eec59e",
   "metadata": {},
   "outputs": [],
   "source": [
    "#reading of dataset\n",
    "df = pd.read_csv('delhi_aqi_large_sample.csv')"
   ]
  },
  {
   "cell_type": "code",
   "execution_count": 21,
   "id": "1aa30005-2f9c-4cd4-aa6c-1fb3081f3f03",
   "metadata": {},
   "outputs": [
    {
     "data": {
      "text/html": [
       "<div>\n",
       "<style scoped>\n",
       "    .dataframe tbody tr th:only-of-type {\n",
       "        vertical-align: middle;\n",
       "    }\n",
       "\n",
       "    .dataframe tbody tr th {\n",
       "        vertical-align: top;\n",
       "    }\n",
       "\n",
       "    .dataframe thead th {\n",
       "        text-align: right;\n",
       "    }\n",
       "</style>\n",
       "<table border=\"1\" class=\"dataframe\">\n",
       "  <thead>\n",
       "    <tr style=\"text-align: right;\">\n",
       "      <th></th>\n",
       "      <th>date</th>\n",
       "      <th>city</th>\n",
       "      <th>no. stations</th>\n",
       "      <th>air quality</th>\n",
       "      <th>index value</th>\n",
       "      <th>prominent pollutant</th>\n",
       "    </tr>\n",
       "  </thead>\n",
       "  <tbody>\n",
       "    <tr>\n",
       "      <th>0</th>\n",
       "      <td>2022-01-01</td>\n",
       "      <td>Delhi</td>\n",
       "      <td>39</td>\n",
       "      <td>Poor</td>\n",
       "      <td>222</td>\n",
       "      <td>PM2.5</td>\n",
       "    </tr>\n",
       "    <tr>\n",
       "      <th>1</th>\n",
       "      <td>2022-01-02</td>\n",
       "      <td>Delhi</td>\n",
       "      <td>34</td>\n",
       "      <td>Very Poor</td>\n",
       "      <td>321</td>\n",
       "      <td>PM10</td>\n",
       "    </tr>\n",
       "    <tr>\n",
       "      <th>2</th>\n",
       "      <td>2022-01-03</td>\n",
       "      <td>Delhi</td>\n",
       "      <td>38</td>\n",
       "      <td>Moderate</td>\n",
       "      <td>170</td>\n",
       "      <td>SO2</td>\n",
       "    </tr>\n",
       "    <tr>\n",
       "      <th>3</th>\n",
       "      <td>2022-01-04</td>\n",
       "      <td>Delhi</td>\n",
       "      <td>33</td>\n",
       "      <td>Very Poor</td>\n",
       "      <td>370</td>\n",
       "      <td>PM10</td>\n",
       "    </tr>\n",
       "    <tr>\n",
       "      <th>4</th>\n",
       "      <td>2022-01-05</td>\n",
       "      <td>Delhi</td>\n",
       "      <td>42</td>\n",
       "      <td>Very Poor</td>\n",
       "      <td>304</td>\n",
       "      <td>SO2</td>\n",
       "    </tr>\n",
       "  </tbody>\n",
       "</table>\n",
       "</div>"
      ],
      "text/plain": [
       "         date   city  no. stations air quality  index value  \\\n",
       "0  2022-01-01  Delhi            39        Poor          222   \n",
       "1  2022-01-02  Delhi            34   Very Poor          321   \n",
       "2  2022-01-03  Delhi            38    Moderate          170   \n",
       "3  2022-01-04  Delhi            33   Very Poor          370   \n",
       "4  2022-01-05  Delhi            42   Very Poor          304   \n",
       "\n",
       "  prominent pollutant  \n",
       "0               PM2.5  \n",
       "1                PM10  \n",
       "2                 SO2  \n",
       "3                PM10  \n",
       "4                 SO2  "
      ]
     },
     "execution_count": 21,
     "metadata": {},
     "output_type": "execute_result"
    }
   ],
   "source": [
    "#gives first five samples of dataset\n",
    "df.head()"
   ]
  },
  {
   "cell_type": "code",
   "execution_count": 22,
   "id": "e263ff6f-a3c5-45b2-b6de-a72e4bf6523b",
   "metadata": {},
   "outputs": [
    {
     "data": {
      "text/html": [
       "<div>\n",
       "<style scoped>\n",
       "    .dataframe tbody tr th:only-of-type {\n",
       "        vertical-align: middle;\n",
       "    }\n",
       "\n",
       "    .dataframe tbody tr th {\n",
       "        vertical-align: top;\n",
       "    }\n",
       "\n",
       "    .dataframe thead th {\n",
       "        text-align: right;\n",
       "    }\n",
       "</style>\n",
       "<table border=\"1\" class=\"dataframe\">\n",
       "  <thead>\n",
       "    <tr style=\"text-align: right;\">\n",
       "      <th></th>\n",
       "      <th>date</th>\n",
       "      <th>city</th>\n",
       "      <th>no. stations</th>\n",
       "      <th>air quality</th>\n",
       "      <th>index value</th>\n",
       "      <th>prominent pollutant</th>\n",
       "    </tr>\n",
       "  </thead>\n",
       "  <tbody>\n",
       "    <tr>\n",
       "      <th>995</th>\n",
       "      <td>2024-09-22</td>\n",
       "      <td>Delhi</td>\n",
       "      <td>44</td>\n",
       "      <td>Severe</td>\n",
       "      <td>406</td>\n",
       "      <td>CO</td>\n",
       "    </tr>\n",
       "    <tr>\n",
       "      <th>996</th>\n",
       "      <td>2024-09-23</td>\n",
       "      <td>Delhi</td>\n",
       "      <td>36</td>\n",
       "      <td>Very Poor</td>\n",
       "      <td>309</td>\n",
       "      <td>CO</td>\n",
       "    </tr>\n",
       "    <tr>\n",
       "      <th>997</th>\n",
       "      <td>2024-09-24</td>\n",
       "      <td>Delhi</td>\n",
       "      <td>39</td>\n",
       "      <td>Good</td>\n",
       "      <td>5</td>\n",
       "      <td>SO2</td>\n",
       "    </tr>\n",
       "    <tr>\n",
       "      <th>998</th>\n",
       "      <td>2024-09-25</td>\n",
       "      <td>Delhi</td>\n",
       "      <td>33</td>\n",
       "      <td>Good</td>\n",
       "      <td>8</td>\n",
       "      <td>NO2</td>\n",
       "    </tr>\n",
       "    <tr>\n",
       "      <th>999</th>\n",
       "      <td>2024-09-26</td>\n",
       "      <td>Delhi</td>\n",
       "      <td>35</td>\n",
       "      <td>Very Poor</td>\n",
       "      <td>395</td>\n",
       "      <td>PM2.5</td>\n",
       "    </tr>\n",
       "  </tbody>\n",
       "</table>\n",
       "</div>"
      ],
      "text/plain": [
       "           date   city  no. stations air quality  index value  \\\n",
       "995  2024-09-22  Delhi            44      Severe          406   \n",
       "996  2024-09-23  Delhi            36   Very Poor          309   \n",
       "997  2024-09-24  Delhi            39        Good            5   \n",
       "998  2024-09-25  Delhi            33        Good            8   \n",
       "999  2024-09-26  Delhi            35   Very Poor          395   \n",
       "\n",
       "    prominent pollutant  \n",
       "995                  CO  \n",
       "996                  CO  \n",
       "997                 SO2  \n",
       "998                 NO2  \n",
       "999               PM2.5  "
      ]
     },
     "execution_count": 22,
     "metadata": {},
     "output_type": "execute_result"
    }
   ],
   "source": [
    "#gives last five samples of dataset\n",
    "df.tail()"
   ]
  },
  {
   "cell_type": "code",
   "execution_count": 23,
   "id": "790c3c87-039a-40f1-a1cf-82614b15e06b",
   "metadata": {},
   "outputs": [
    {
     "data": {
      "text/plain": [
       "(1000, 6)"
      ]
     },
     "execution_count": 23,
     "metadata": {},
     "output_type": "execute_result"
    }
   ],
   "source": [
    "#No. of rows and columns in data set\n",
    "df.shape"
   ]
  },
  {
   "cell_type": "code",
   "execution_count": 24,
   "id": "49490e42-a018-423b-b6d0-55a64fe1b842",
   "metadata": {},
   "outputs": [
    {
     "data": {
      "text/plain": [
       "0"
      ]
     },
     "execution_count": 24,
     "metadata": {},
     "output_type": "execute_result"
    }
   ],
   "source": [
    "#gives sumof duplicates\n",
    "df.duplicated().sum()"
   ]
  },
  {
   "cell_type": "code",
   "execution_count": 25,
   "id": "819774ed-c931-421f-872c-f508104e24e1",
   "metadata": {},
   "outputs": [
    {
     "data": {
      "text/plain": [
       "date                   0\n",
       "city                   0\n",
       "no. stations           0\n",
       "air quality            0\n",
       "index value            0\n",
       "prominent pollutant    0\n",
       "dtype: int64"
      ]
     },
     "execution_count": 25,
     "metadata": {},
     "output_type": "execute_result"
    }
   ],
   "source": [
    "#gives sum of null value for each feature\n",
    "df.isnull().sum()"
   ]
  },
  {
   "cell_type": "code",
   "execution_count": 26,
   "id": "5e8fa390-b3eb-4683-9d34-0e22cbb2095c",
   "metadata": {},
   "outputs": [
    {
     "name": "stdout",
     "output_type": "stream",
     "text": [
      "<class 'pandas.core.frame.DataFrame'>\n",
      "RangeIndex: 1000 entries, 0 to 999\n",
      "Data columns (total 6 columns):\n",
      " #   Column               Non-Null Count  Dtype \n",
      "---  ------               --------------  ----- \n",
      " 0   date                 1000 non-null   object\n",
      " 1   city                 1000 non-null   object\n",
      " 2   no. stations         1000 non-null   int64 \n",
      " 3   air quality          1000 non-null   object\n",
      " 4   index value          1000 non-null   int64 \n",
      " 5   prominent pollutant  1000 non-null   object\n",
      "dtypes: int64(2), object(4)\n",
      "memory usage: 47.0+ KB\n"
     ]
    }
   ],
   "source": [
    "df.info()"
   ]
  },
  {
   "cell_type": "code",
   "execution_count": 27,
   "id": "dde83656-a13b-4789-b5aa-c473c2291a61",
   "metadata": {},
   "outputs": [
    {
     "data": {
      "text/html": [
       "<div>\n",
       "<style scoped>\n",
       "    .dataframe tbody tr th:only-of-type {\n",
       "        vertical-align: middle;\n",
       "    }\n",
       "\n",
       "    .dataframe tbody tr th {\n",
       "        vertical-align: top;\n",
       "    }\n",
       "\n",
       "    .dataframe thead th {\n",
       "        text-align: right;\n",
       "    }\n",
       "</style>\n",
       "<table border=\"1\" class=\"dataframe\">\n",
       "  <thead>\n",
       "    <tr style=\"text-align: right;\">\n",
       "      <th></th>\n",
       "      <th>no. stations</th>\n",
       "      <th>index value</th>\n",
       "    </tr>\n",
       "  </thead>\n",
       "  <tbody>\n",
       "    <tr>\n",
       "      <th>count</th>\n",
       "      <td>1000.000000</td>\n",
       "      <td>1000.000000</td>\n",
       "    </tr>\n",
       "    <tr>\n",
       "      <th>mean</th>\n",
       "      <td>36.903000</td>\n",
       "      <td>213.452000</td>\n",
       "    </tr>\n",
       "    <tr>\n",
       "      <th>std</th>\n",
       "      <td>4.289521</td>\n",
       "      <td>152.179711</td>\n",
       "    </tr>\n",
       "    <tr>\n",
       "      <th>min</th>\n",
       "      <td>30.000000</td>\n",
       "      <td>0.000000</td>\n",
       "    </tr>\n",
       "    <tr>\n",
       "      <th>25%</th>\n",
       "      <td>33.000000</td>\n",
       "      <td>68.000000</td>\n",
       "    </tr>\n",
       "    <tr>\n",
       "      <th>50%</th>\n",
       "      <td>37.000000</td>\n",
       "      <td>201.000000</td>\n",
       "    </tr>\n",
       "    <tr>\n",
       "      <th>75%</th>\n",
       "      <td>41.000000</td>\n",
       "      <td>346.500000</td>\n",
       "    </tr>\n",
       "    <tr>\n",
       "      <th>max</th>\n",
       "      <td>44.000000</td>\n",
       "      <td>499.000000</td>\n",
       "    </tr>\n",
       "  </tbody>\n",
       "</table>\n",
       "</div>"
      ],
      "text/plain": [
       "       no. stations  index value\n",
       "count   1000.000000  1000.000000\n",
       "mean      36.903000   213.452000\n",
       "std        4.289521   152.179711\n",
       "min       30.000000     0.000000\n",
       "25%       33.000000    68.000000\n",
       "50%       37.000000   201.000000\n",
       "75%       41.000000   346.500000\n",
       "max       44.000000   499.000000"
      ]
     },
     "execution_count": 27,
     "metadata": {},
     "output_type": "execute_result"
    }
   ],
   "source": [
    "df.describe()"
   ]
  },
  {
   "cell_type": "code",
   "execution_count": 28,
   "id": "5c3acfea-53ea-4638-bae0-2decf7804e28",
   "metadata": {},
   "outputs": [
    {
     "data": {
      "text/plain": [
       "date                   1000\n",
       "city                      1\n",
       "no. stations             15\n",
       "air quality               6\n",
       "index value             418\n",
       "prominent pollutant       6\n",
       "dtype: int64"
      ]
     },
     "execution_count": 28,
     "metadata": {},
     "output_type": "execute_result"
    }
   ],
   "source": [
    "df.nunique()"
   ]
  },
  {
   "cell_type": "code",
   "execution_count": 29,
   "id": "2c4a3965-4fe2-4405-8893-7a556bad4d60",
   "metadata": {},
   "outputs": [
    {
     "data": {
      "text/plain": [
       "array(['Poor', 'Very Poor', 'Moderate', 'Satisfactory', 'Severe', 'Good'],\n",
       "      dtype=object)"
      ]
     },
     "execution_count": 29,
     "metadata": {},
     "output_type": "execute_result"
    }
   ],
   "source": [
    "df['air quality'].unique()"
   ]
  },
  {
   "cell_type": "code",
   "execution_count": 30,
   "id": "df5a1ff6-eb97-49e8-a968-41b5ef17921c",
   "metadata": {},
   "outputs": [
    {
     "data": {
      "text/plain": [
       "air quality\n",
       "Good            181\n",
       "Poor            174\n",
       "Very Poor       172\n",
       "Satisfactory    164\n",
       "Severe          155\n",
       "Moderate        154\n",
       "Name: count, dtype: int64"
      ]
     },
     "execution_count": 30,
     "metadata": {},
     "output_type": "execute_result"
    }
   ],
   "source": [
    "df['air quality'].value_counts()"
   ]
  },
  {
   "cell_type": "code",
   "execution_count": 31,
   "id": "c913221b-858a-41ff-889c-8045df200847",
   "metadata": {},
   "outputs": [
    {
     "data": {
      "image/png": "[encoded data removed]",
      "text/plain": [
       "<Figure size 1500x600 with 1 Axes>"
      ]
     },
     "metadata": {},
     "output_type": "display_data"
    }
   ],
   "source": [
    "plt.figure(figsize=(15, 6))\n",
    "ax = sns.countplot(x='air quality', data=df, palette='hls')\n",
    "for p in ax.patches:\n",
    "    height = p.get_height()\n",
    "    ax.annotate(f'{height}',xy=(p.get_x() + p.get_width() / 2., height),xytext=(0, 10),textcoords='offset points',ha='center', va='center') \n",
    "plt.show()"
   ]
  },
  {
   "cell_type": "code",
   "execution_count": null,
   "id": "0b17912d-e4bc-487f-9ee8-fbee10ee4e59",
   "metadata": {},
   "outputs": [],
   "source": []
  }
 ],
 "metadata": {
  "kernelspec": {
   "display_name": "Python 3 (ipykernel)",
   "language": "python",
   "name": "python3"
  },
  "language_info": {
   "codemirror_mode": {
    "name": "ipython",
    "version": 3
   },
   "file_extension": ".py",
   "mimetype": "text/x-python",
   "name": "python",
   "nbconvert_exporter": "python",
   "pygments_lexer": "ipython3",
   "version": "3.12.7"
  }
 },
 "nbformat": 4,
 "nbformat_minor": 5
}
